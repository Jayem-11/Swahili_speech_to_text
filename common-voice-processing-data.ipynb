{
 "cells": [
  {
   "cell_type": "markdown",
   "metadata": {},
   "source": [
    "## Unzip dataset"
   ]
  },
  {
   "cell_type": "code",
   "execution_count": null,
   "metadata": {},
   "outputs": [],
   "source": [
    "!tar -xvf /kaggle/input/swahili-at/asr/eval.tar \n",
    "!tar -xvf /kaggle/input/swahili-at/asr/test.tar\n",
    "!tar -xvf \"/kaggle/input/swahili-at/asr/train (1).tar\""
   ]
  },
  {
   "cell_type": "markdown",
   "metadata": {},
   "source": [
    "## Setup"
   ]
  },
  {
   "cell_type": "code",
   "execution_count": 1,
   "metadata": {
    "execution": {
     "iopub.execute_input": "2023-11-13T21:36:37.150756Z",
     "iopub.status.busy": "2023-11-13T21:36:37.150036Z",
     "iopub.status.idle": "2023-11-13T21:38:32.409823Z",
     "shell.execute_reply": "2023-11-13T21:38:32.407992Z",
     "shell.execute_reply.started": "2023-11-13T21:36:37.150715Z"
    }
   },
   "outputs": [],
   "source": [
    "%%capture\n",
    "!pip install datasets==2.14.1\n",
    "!pip install transformers==4.4.0\n",
    "!pip install torchaudio\n",
    "!pip install librosa\n",
    "!pip install jiwer\n",
    "!pip install evaluate \n",
    "!pip install wandb"
   ]
  },
  {
   "cell_type": "code",
   "execution_count": 2,
   "metadata": {
    "execution": {
     "iopub.execute_input": "2023-11-13T21:38:32.414152Z",
     "iopub.status.busy": "2023-11-13T21:38:32.413025Z",
     "iopub.status.idle": "2023-11-13T21:38:32.813653Z",
     "shell.execute_reply": "2023-11-13T21:38:32.812006Z",
     "shell.execute_reply.started": "2023-11-13T21:38:32.414088Z"
    }
   },
   "outputs": [],
   "source": [
    "from huggingface_hub import login"
   ]
  },
  {
   "cell_type": "markdown",
   "metadata": {},
   "source": [
    "## Hugging face"
   ]
  },
  {
   "cell_type": "code",
   "execution_count": 3,
   "metadata": {
    "execution": {
     "iopub.execute_input": "2023-11-13T21:38:32.816312Z",
     "iopub.status.busy": "2023-11-13T21:38:32.815718Z",
     "iopub.status.idle": "2023-11-13T21:38:33.279080Z",
     "shell.execute_reply": "2023-11-13T21:38:33.277795Z",
     "shell.execute_reply.started": "2023-11-13T21:38:32.816257Z"
    }
   },
   "outputs": [],
   "source": [
    "from kaggle_secrets import UserSecretsClient\n",
    "secret_label = \"hf\"\n",
    "secret_value = UserSecretsClient().get_secret(secret_label)"
   ]
  },
  {
   "cell_type": "code",
   "execution_count": 4,
   "metadata": {
    "execution": {
     "iopub.execute_input": "2023-11-13T21:38:33.282856Z",
     "iopub.status.busy": "2023-11-13T21:38:33.282449Z",
     "iopub.status.idle": "2023-11-13T21:38:33.461272Z",
     "shell.execute_reply": "2023-11-13T21:38:33.460364Z",
     "shell.execute_reply.started": "2023-11-13T21:38:33.282821Z"
    }
   },
   "outputs": [
    {
     "name": "stdout",
     "output_type": "stream",
     "text": [
      "Token will not been saved to git credential helper. Pass `add_to_git_credential=True` if you want to set the git credential as well.\n",
      "Token is valid (permission: write).\n",
      "Your token has been saved to /root/.cache/huggingface/token\n",
      "Login successful\n"
     ]
    }
   ],
   "source": [
    "login(token=secret_value)"
   ]
  },
  {
   "cell_type": "code",
   "execution_count": 5,
   "metadata": {
    "execution": {
     "iopub.execute_input": "2023-11-13T21:38:33.463372Z",
     "iopub.status.busy": "2023-11-13T21:38:33.462691Z",
     "iopub.status.idle": "2023-11-13T21:38:33.467925Z",
     "shell.execute_reply": "2023-11-13T21:38:33.467099Z",
     "shell.execute_reply.started": "2023-11-13T21:38:33.463339Z"
    }
   },
   "outputs": [],
   "source": [
    "import os\n",
    "model_name_or_path = \"openai/whisper-small\"\n",
    "language = \"Swahili\"\n",
    "language_abbr = \"sw\"\n",
    "task = \"transcribe\""
   ]
  },
  {
   "cell_type": "code",
   "execution_count": 6,
   "metadata": {
    "execution": {
     "iopub.execute_input": "2023-11-13T21:38:33.469936Z",
     "iopub.status.busy": "2023-11-13T21:38:33.469088Z",
     "iopub.status.idle": "2023-11-13T21:38:35.181667Z",
     "shell.execute_reply": "2023-11-13T21:38:35.179661Z",
     "shell.execute_reply.started": "2023-11-13T21:38:33.469901Z"
    }
   },
   "outputs": [],
   "source": [
    "import pandas as pd\n",
    "import numpy as np\n",
    "from datasets import Dataset, Audio, Value, Features, ClassLabel"
   ]
  },
  {
   "cell_type": "markdown",
   "metadata": {},
   "source": [
    "## Dataset"
   ]
  },
  {
   "cell_type": "code",
   "execution_count": 7,
   "metadata": {},
   "outputs": [],
   "source": [
    "train_df = pd.read_csv(\"./train.tsv\",sep='\\t')"
   ]
  },
  {
   "cell_type": "markdown",
   "metadata": {},
   "source": [
    "#### Removing missing audio and audio with down votes greater than 2"
   ]
  },
  {
   "cell_type": "code",
   "execution_count": 9,
   "metadata": {
    "execution": {
     "iopub.execute_input": "2023-11-13T21:38:36.072920Z",
     "iopub.status.busy": "2023-11-13T21:38:36.072232Z",
     "iopub.status.idle": "2023-11-13T21:38:37.475001Z",
     "shell.execute_reply": "2023-11-13T21:38:37.473301Z",
     "shell.execute_reply.started": "2023-11-13T21:38:36.072865Z"
    }
   },
   "outputs": [],
   "source": [
    "# these audio files are missing so we remove them\n",
    "missing_audio =  ['common_voice_sw_30318282.mp3','common_voice_sw_30035155.mp3','common_voice_sw_30377114.mp3']\n",
    "\n",
    "train_df = train_df[train_df.path != missing_audio[0]]\n",
    "train_df = train_df[train_df.path != missing_audio[1]]\n",
    "train_df = train_df[train_df.path != missing_audio[2]]\n",
    "\n",
    "# remove audio files with downvotes greater than 2\n",
    "train_df = train_df[train_df[\"down_votes\"] < 2 ]\n",
    "train_df.to_csv(\"train\",index=False)\n",
    "train_df[\"path\"] = train_df[\"path\"].apply(lambda x: f\"/kaggle/input/commonvoice/train/{x}\")"
   ]
  },
  {
   "cell_type": "markdown",
   "metadata": {},
   "source": [
    "#### Convert the data into hugginface Datasets format"
   ]
  },
  {
   "cell_type": "code",
   "execution_count": 10,
   "metadata": {
    "execution": {
     "iopub.execute_input": "2023-11-13T21:38:37.479648Z",
     "iopub.status.busy": "2023-11-13T21:38:37.478850Z",
     "iopub.status.idle": "2023-11-13T21:38:37.631655Z",
     "shell.execute_reply": "2023-11-13T21:38:37.630228Z",
     "shell.execute_reply.started": "2023-11-13T21:38:37.479605Z"
    }
   },
   "outputs": [],
   "source": [
    "audio_dataset = Dataset.from_dict({\"audio\": train_df[\"path\"], \"sentence\":train_df[\"sentence\"]}).cast_column(\"audio\", Audio())"
   ]
  },
  {
   "cell_type": "code",
   "execution_count": 11,
   "metadata": {
    "execution": {
     "iopub.execute_input": "2023-11-13T21:38:37.635301Z",
     "iopub.status.busy": "2023-11-13T21:38:37.634283Z",
     "iopub.status.idle": "2023-11-13T21:38:37.645513Z",
     "shell.execute_reply": "2023-11-13T21:38:37.643968Z",
     "shell.execute_reply.started": "2023-11-13T21:38:37.635250Z"
    }
   },
   "outputs": [
    {
     "data": {
      "text/plain": [
       "Dataset({\n",
       "    features: ['audio', 'sentence'],\n",
       "    num_rows: 78222\n",
       "})"
      ]
     },
     "execution_count": 11,
     "metadata": {},
     "output_type": "execute_result"
    }
   ],
   "source": [
    "audio_dataset"
   ]
  },
  {
   "cell_type": "markdown",
   "metadata": {},
   "source": [
    "#### set audio input to the correct sampling rate "
   ]
  },
  {
   "cell_type": "code",
   "execution_count": 12,
   "metadata": {
    "execution": {
     "iopub.execute_input": "2023-11-13T21:38:37.647956Z",
     "iopub.status.busy": "2023-11-13T21:38:37.647201Z",
     "iopub.status.idle": "2023-11-13T21:38:37.664188Z",
     "shell.execute_reply": "2023-11-13T21:38:37.662525Z",
     "shell.execute_reply.started": "2023-11-13T21:38:37.647920Z"
    }
   },
   "outputs": [],
   "source": [
    "from datasets import Audio\n",
    "\n",
    "audio_dataset = audio_dataset.cast_column(\"audio\", Audio(sampling_rate=16000))"
   ]
  },
  {
   "cell_type": "code",
   "execution_count": 13,
   "metadata": {
    "execution": {
     "iopub.execute_input": "2023-11-13T21:38:37.666314Z",
     "iopub.status.busy": "2023-11-13T21:38:37.665856Z",
     "iopub.status.idle": "2023-11-13T21:38:37.765123Z",
     "shell.execute_reply": "2023-11-13T21:38:37.763857Z",
     "shell.execute_reply.started": "2023-11-13T21:38:37.666263Z"
    }
   },
   "outputs": [],
   "source": [
    "common_voice_train = audio_dataset.train_test_split(test_size=0.3)[\"train\"]\n",
    "common_voice_test = audio_dataset.train_test_split(test_size=0.3)[\"test\"]"
   ]
  },
  {
   "cell_type": "markdown",
   "metadata": {},
   "source": [
    "## Feature extractor and Tokenizer"
   ]
  },
  {
   "cell_type": "code",
   "execution_count": 14,
   "metadata": {
    "execution": {
     "iopub.execute_input": "2023-11-13T21:38:37.767612Z",
     "iopub.status.busy": "2023-11-13T21:38:37.766792Z",
     "iopub.status.idle": "2023-11-13T21:38:43.058705Z",
     "shell.execute_reply": "2023-11-13T21:38:43.057509Z",
     "shell.execute_reply.started": "2023-11-13T21:38:37.767569Z"
    }
   },
   "outputs": [
    {
     "data": {
      "application/vnd.jupyter.widget-view+json": {
       "model_id": "1e176ab74afb4afcbcdea3147cdeed7f",
       "version_major": 2,
       "version_minor": 0
      },
      "text/plain": [
       "Downloading (…)rocessor_config.json:   0%|          | 0.00/185k [00:00<?, ?B/s]"
      ]
     },
     "metadata": {},
     "output_type": "display_data"
    },
    {
     "data": {
      "application/vnd.jupyter.widget-view+json": {
       "model_id": "01ef179f3ed040199ba224795f937096",
       "version_major": 2,
       "version_minor": 0
      },
      "text/plain": [
       "Downloading (…)okenizer_config.json:   0%|          | 0.00/805 [00:00<?, ?B/s]"
      ]
     },
     "metadata": {},
     "output_type": "display_data"
    },
    {
     "data": {
      "application/vnd.jupyter.widget-view+json": {
       "model_id": "7f2b37226f4344eeb3bccd0ffcedf150",
       "version_major": 2,
       "version_minor": 0
      },
      "text/plain": [
       "Downloading (…)olve/main/vocab.json:   0%|          | 0.00/836k [00:00<?, ?B/s]"
      ]
     },
     "metadata": {},
     "output_type": "display_data"
    },
    {
     "data": {
      "application/vnd.jupyter.widget-view+json": {
       "model_id": "a055507ce9774d5b9624eb176d96515b",
       "version_major": 2,
       "version_minor": 0
      },
      "text/plain": [
       "Downloading (…)/main/tokenizer.json:   0%|          | 0.00/2.48M [00:00<?, ?B/s]"
      ]
     },
     "metadata": {},
     "output_type": "display_data"
    },
    {
     "data": {
      "application/vnd.jupyter.widget-view+json": {
       "model_id": "01da06adf045471fafe7b4bceb5b9cfd",
       "version_major": 2,
       "version_minor": 0
      },
      "text/plain": [
       "Downloading (…)olve/main/merges.txt:   0%|          | 0.00/494k [00:00<?, ?B/s]"
      ]
     },
     "metadata": {},
     "output_type": "display_data"
    },
    {
     "data": {
      "application/vnd.jupyter.widget-view+json": {
       "model_id": "be84f9e63ee54459acc6ab29a2506b0a",
       "version_major": 2,
       "version_minor": 0
      },
      "text/plain": [
       "Downloading (…)main/normalizer.json:   0%|          | 0.00/52.7k [00:00<?, ?B/s]"
      ]
     },
     "metadata": {},
     "output_type": "display_data"
    },
    {
     "data": {
      "application/vnd.jupyter.widget-view+json": {
       "model_id": "7bf77db9ab054f5286889ab5d073884a",
       "version_major": 2,
       "version_minor": 0
      },
      "text/plain": [
       "Downloading (…)in/added_tokens.json:   0%|          | 0.00/34.6k [00:00<?, ?B/s]"
      ]
     },
     "metadata": {},
     "output_type": "display_data"
    },
    {
     "data": {
      "application/vnd.jupyter.widget-view+json": {
       "model_id": "a92892647bf040d181200bdbfd9b7c64",
       "version_major": 2,
       "version_minor": 0
      },
      "text/plain": [
       "Downloading (…)cial_tokens_map.json:   0%|          | 0.00/2.08k [00:00<?, ?B/s]"
      ]
     },
     "metadata": {},
     "output_type": "display_data"
    }
   ],
   "source": [
    "from transformers import WhisperFeatureExtractor, WhisperTokenizer, WhisperProcessor\n",
    "\n",
    "feature_extractor = WhisperFeatureExtractor.from_pretrained(model_name_or_path)\n",
    "tokenizer = WhisperTokenizer.from_pretrained(model_name_or_path, language=language, task=task)\n",
    "processor = WhisperProcessor.from_pretrained(model_name_or_path, language=language, task=task)"
   ]
  },
  {
   "cell_type": "markdown",
   "metadata": {},
   "source": [
    "### Preprocesses"
   ]
  },
  {
   "cell_type": "code",
   "execution_count": 15,
   "metadata": {
    "execution": {
     "iopub.execute_input": "2023-11-13T21:39:29.116006Z",
     "iopub.status.busy": "2023-11-13T21:39:29.114660Z",
     "iopub.status.idle": "2023-11-13T21:39:29.123835Z",
     "shell.execute_reply": "2023-11-13T21:39:29.122704Z",
     "shell.execute_reply.started": "2023-11-13T21:39:29.115959Z"
    }
   },
   "outputs": [
    {
     "data": {
      "text/plain": [
       "Dataset({\n",
       "    features: ['audio', 'sentence'],\n",
       "    num_rows: 23467\n",
       "})"
      ]
     },
     "execution_count": 15,
     "metadata": {},
     "output_type": "execute_result"
    }
   ],
   "source": [
    "common_voice_test"
   ]
  },
  {
   "cell_type": "markdown",
   "metadata": {},
   "source": [
    "#### I split the dataset into 6 batches for incremental learning"
   ]
  },
  {
   "cell_type": "code",
   "execution_count": 23,
   "metadata": {
    "execution": {
     "iopub.execute_input": "2023-11-13T21:42:53.836349Z",
     "iopub.status.busy": "2023-11-13T21:42:53.835758Z",
     "iopub.status.idle": "2023-11-13T21:42:53.863696Z",
     "shell.execute_reply": "2023-11-13T21:42:53.862398Z",
     "shell.execute_reply.started": "2023-11-13T21:42:53.836311Z"
    }
   },
   "outputs": [],
   "source": [
    "train_batches = common_voice_train.train_test_split(test_size=0.5)\n",
    "test_batches = common_voice_test.train_test_split(test_size=0.5)\n",
    "\n",
    "\n",
    "train_batch_A = train_batches[\"train\"]\n",
    "train_batch_B = train_batches[\"test\"]\n",
    "\n",
    "train_batch_A_split = train_batch_A.train_test_split(test_size=0.5)\n",
    "train_batch_B_split = train_batch_B.train_test_split(test_size=0.5)\n",
    "\n",
    "# we split into 6 batches\n",
    "train_batch_1 = train_batch_A_split[\"train\"]\n",
    "train_batch_2 = train_batch_A_split[\"test\"]\n",
    "train_batch_3 = train_batch_B_split[\"train\"]\n",
    "train_batch_4 = train_batch_B_split[\"test\"]\n",
    "test_batch_A = test_batches[\"train\"]\n",
    "test_batch_B = test_batches[\"test\"]"
   ]
  },
  {
   "cell_type": "code",
   "execution_count": 24,
   "metadata": {
    "execution": {
     "iopub.execute_input": "2023-11-13T21:42:58.240752Z",
     "iopub.status.busy": "2023-11-13T21:42:58.240279Z",
     "iopub.status.idle": "2023-11-13T21:42:58.249634Z",
     "shell.execute_reply": "2023-11-13T21:42:58.248237Z",
     "shell.execute_reply.started": "2023-11-13T21:42:58.240718Z"
    }
   },
   "outputs": [],
   "source": [
    "def prepare_dataset(batch):\n",
    "    # load audio data\n",
    "    audio = batch[\"audio\"]\n",
    "\n",
    "    # compute input length\n",
    "    batch[\"input_length\"] = len(batch[\"audio\"])\n",
    "\n",
    "    # compute log-Mel input features from input audio array \n",
    "    batch[\"input_features\"] = feature_extractor(audio[\"array\"], sampling_rate=audio[\"sampling_rate\"]).input_features[0]\n",
    "\n",
    "    # encode target text \n",
    "    batch[\"labels\"] = tokenizer(batch[\"sentence\"]).input_ids\n",
    "\n",
    "    # labels length\n",
    "    batch[\"labels_length\"] = len(batch[\"labels\"])\n",
    "    return batch"
   ]
  },
  {
   "cell_type": "code",
   "execution_count": 1,
   "metadata": {
    "execution": {
     "iopub.execute_input": "2023-11-13T21:43:58.488993Z",
     "iopub.status.busy": "2023-11-13T21:43:58.488501Z",
     "iopub.status.idle": "2023-11-13T21:44:44.123232Z",
     "shell.execute_reply": "2023-11-13T21:44:44.121036Z",
     "shell.execute_reply.started": "2023-11-13T21:43:58.488953Z"
    },
    "scrolled": false
   },
   "outputs": [],
   "source": [
    "# pre-process\n",
    "train_batch_1_preprocessed = train_batch_1.map(prepare_dataset)\n",
    "train_batch_2_preprocessed = train_batch_1.map(prepare_dataset)\n",
    "train_batch_3_preprocessed = train_batch_1.map(prepare_dataset)\n",
    "train_batch_4_preprocessed = train_batch_1.map(prepare_dataset)\n",
    "Test_batch_A_preprocessed = test_batch_A.map(prepare_dataset)\n",
    "Test_batch_B_preprocessed = test_batch_B.map(prepare_dataset)"
   ]
  },
  {
   "cell_type": "markdown",
   "metadata": {},
   "source": [
    "#### Push dataset to huggingface"
   ]
  },
  {
   "cell_type": "code",
   "execution_count": null,
   "metadata": {
    "execution": {
     "iopub.execute_input": "2023-11-06T13:37:49.084795Z",
     "iopub.status.busy": "2023-11-06T13:37:49.084324Z",
     "iopub.status.idle": "2023-11-06T13:42:45.837323Z",
     "shell.execute_reply": "2023-11-06T13:42:45.835942Z",
     "shell.execute_reply.started": "2023-11-06T13:37:49.084757Z"
    }
   },
   "outputs": [],
   "source": [
    "train_batch_1_preprocessed.push_to_hub(\"Jayem-11/mozilla_commonvoice_hackathon_preprocessed_train_batch_1\") \n",
    "train_batch_2_preprocessed.push_to_hub(\"Jayem-11/mozilla_commonvoice_hackathon_preprocessed_train_batch_2\") \n",
    "train_batch_3_preprocessed.push_to_hub(\"Jayem-11/mozilla_commonvoice_hackathon_preprocessed_train_batch_3\") \n",
    "train_batch_4_preprocessed.push_to_hub(\"Jayem-11/mozilla_commonvoice_hackathon_preprocessed_train_batch_4\") \n",
    "Test_batch_A_preprocessed.push_to_hub(\"Jayem-11/mozilla_commonvoice_hackathon_preprocessed_train_batch_5\") \n",
    "Test_batch_B_preprocessed.push_to_hub(\"Jayem-11/mozilla_commonvoice_hackathon_preprocessed_train_batch_6\") "
   ]
  }
 ],
 "metadata": {
  "kaggle": {
   "accelerator": "none",
   "dataSources": [
    {
     "datasetId": 3877022,
     "sourceId": 6731097,
     "sourceType": "datasetVersion"
    },
    {
     "datasetId": 3877089,
     "sourceId": 6731214,
     "sourceType": "datasetVersion"
    }
   ],
   "dockerImageVersionId": 30558,
   "isGpuEnabled": false,
   "isInternetEnabled": true,
   "language": "python",
   "sourceType": "notebook"
  },
  "kernelspec": {
   "display_name": "Python 3 (ipykernel)",
   "language": "python",
   "name": "python3"
  },
  "language_info": {
   "codemirror_mode": {
    "name": "ipython",
    "version": 3
   },
   "file_extension": ".py",
   "mimetype": "text/x-python",
   "name": "python",
   "nbconvert_exporter": "python",
   "pygments_lexer": "ipython3",
   "version": "3.10.7"
  }
 },
 "nbformat": 4,
 "nbformat_minor": 4
}
